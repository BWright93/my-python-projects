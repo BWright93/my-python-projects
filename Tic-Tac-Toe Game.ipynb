{
 "cells": [
  {
   "cell_type": "code",
   "execution_count": 1,
   "id": "bdeec88b",
   "metadata": {},
   "outputs": [],
   "source": [
    "# Display the game board\n",
    "\n",
    "from IPython.display import clear_output\n",
    "\n",
    "def show_board(board):\n",
    "    clear_output()\n",
    "    print(board[1]+'|'+board[2]+'|'+board[3])\n",
    "    print('-----')\n",
    "    print(board[4]+'|'+board[5]+'|'+board[6])\n",
    "    print('-----')\n",
    "    print(board[7]+'|'+board[8]+'|'+board[9])"
   ]
  },
  {
   "cell_type": "code",
   "execution_count": 2,
   "id": "da6d127a",
   "metadata": {},
   "outputs": [
    {
     "name": "stdout",
     "output_type": "stream",
     "text": [
      " | | \n",
      "-----\n",
      " | | \n",
      "-----\n",
      " | | \n"
     ]
    }
   ],
   "source": [
    "test = [' ']*10\n",
    "show_board(test)"
   ]
  },
  {
   "cell_type": "code",
   "execution_count": 3,
   "id": "3c0e56c3",
   "metadata": {},
   "outputs": [],
   "source": [
    "# Accepting and assigning a marker to both players\n",
    "\n",
    "def player_input():\n",
    "    \n",
    "    marker = '' # Placeholder variable\n",
    "    \n",
    "    # Ask Player 1 to choose between X and O\n",
    "    while marker != 'X' and marker != 'O':\n",
    "        marker = input('Player 1, choose a marker X or O: ')\n",
    "    \n",
    "    player1 = marker\n",
    "    \n",
    "    # Assign Player 2 their marker\n",
    "    if player1 == 'X':\n",
    "        player2 = 'O'\n",
    "    else:\n",
    "        player2 = 'X'\n",
    "    \n",
    "    return (player1,player2)"
   ]
  },
  {
   "cell_type": "code",
   "execution_count": 4,
   "id": "c62ad921",
   "metadata": {},
   "outputs": [
    {
     "name": "stdout",
     "output_type": "stream",
     "text": [
      "Player 1, choose a marker X or O: O\n"
     ]
    },
    {
     "data": {
      "text/plain": [
       "('O', 'X')"
      ]
     },
     "execution_count": 4,
     "metadata": {},
     "output_type": "execute_result"
    }
   ],
   "source": [
    "player_input()"
   ]
  },
  {
   "cell_type": "code",
   "execution_count": 5,
   "id": "b18ca489",
   "metadata": {},
   "outputs": [],
   "source": [
    "# Player decides a postion to place their marker\n",
    "# Place/Assign the marker at the desired position on the board\n",
    "def place_marker(board,marker,position):\n",
    "    board[position] = marker"
   ]
  },
  {
   "cell_type": "code",
   "execution_count": 6,
   "id": "f2c937c7",
   "metadata": {},
   "outputs": [
    {
     "name": "stdout",
     "output_type": "stream",
     "text": [
      " | | \n",
      "-----\n",
      " |X| \n",
      "-----\n",
      " | | \n"
     ]
    }
   ],
   "source": [
    "place_marker(test,'X',5)\n",
    "show_board(test)"
   ]
  },
  {
   "cell_type": "code",
   "execution_count": 7,
   "id": "b48e50dd",
   "metadata": {},
   "outputs": [],
   "source": [
    "# Check to see if someone has won the game\n",
    "def winner_check(board,mark):\n",
    "    \n",
    "    # Check all rows\n",
    "    return ((board[1] == mark and board[2] == mark and board[3] == mark) or\n",
    "    (board[4] == mark and board[5] == mark and board[6] == mark) or\n",
    "    (board[7] == mark and board[8] == mark and board[9] == mark) or\n",
    "    # Check all columns\n",
    "    (board[1] == mark and board[4] == mark and board[7] == mark) or\n",
    "    (board[2] == mark and board[5] == mark and board[8] == mark) or\n",
    "    (board[3] == mark and board[6] == mark and board[9] == mark) or\n",
    "    # Check diagonals\n",
    "    (board[1] == mark and board[5] == mark and board[9] == mark) or\n",
    "    (board[3] == mark and board[5] == mark and board[7] == mark))"
   ]
  },
  {
   "cell_type": "code",
   "execution_count": 8,
   "id": "b7e2c5a1",
   "metadata": {},
   "outputs": [
    {
     "data": {
      "text/plain": [
       "False"
      ]
     },
     "execution_count": 8,
     "metadata": {},
     "output_type": "execute_result"
    }
   ],
   "source": [
    "winner_check(test,'X')"
   ]
  },
  {
   "cell_type": "code",
   "execution_count": 9,
   "id": "7b870740",
   "metadata": {},
   "outputs": [],
   "source": [
    "# Randomly decide which player will go first\n",
    "\n",
    "import random\n",
    "\n",
    "def random_player():\n",
    "    \n",
    "    decide = random.randint(0,1) # Randomly decide between two different players\n",
    "    if decide == 0:\n",
    "        return('Player 1')\n",
    "    else:\n",
    "        return('Player 2')"
   ]
  },
  {
   "cell_type": "code",
   "execution_count": 10,
   "id": "4625bf51",
   "metadata": {},
   "outputs": [],
   "source": [
    "# Check if a space in the board is empty or full\n",
    "def emptyspace_check(board, position):\n",
    "    \n",
    "    return board[position] == ' ' # True if position on board is empty, False if full"
   ]
  },
  {
   "cell_type": "code",
   "execution_count": 11,
   "id": "a84d2c8d",
   "metadata": {},
   "outputs": [],
   "source": [
    "# Check if the entire board is full\n",
    "def fullboard_check(board):\n",
    "    \n",
    "    for space in range(1,10): # Up to but not including 10\n",
    "        if emptyspace_check(board,space):\n",
    "            return False\n",
    "    # If the board is full    \n",
    "    return True"
   ]
  },
  {
   "cell_type": "code",
   "execution_count": 12,
   "id": "26259981",
   "metadata": {},
   "outputs": [],
   "source": [
    "# Asking for a player's next position and checking to see if it's available\n",
    "def player_turn(board):\n",
    "    \n",
    "    position = '0' # Placeholder variable\n",
    "    \n",
    "    while position not in range(1,10) or not emptyspace_check(board,position):\n",
    "        position = int(input('Please enter a number 1-9: '))\n",
    "        \n",
    "    return position"
   ]
  },
  {
   "cell_type": "code",
   "execution_count": 13,
   "id": "f8e14368",
   "metadata": {},
   "outputs": [],
   "source": [
    "# Ask if they want to play again\n",
    "def play_again():\n",
    "    \n",
    "    decision = input('Would you like to play again? Y or N? ')\n",
    "    \n",
    "    return decision == 'Y'"
   ]
  },
  {
   "cell_type": "code",
   "execution_count": 16,
   "id": "2bb7e36c",
   "metadata": {},
   "outputs": [
    {
     "name": "stdout",
     "output_type": "stream",
     "text": [
      "O|X|O\n",
      "-----\n",
      " |X| \n",
      "-----\n",
      " |X| \n",
      "Player 1 wins!\n",
      "Would you like to play again? Y or N? N\n",
      "Thanks for playing!\n"
     ]
    }
   ],
   "source": [
    "#Full Tic-Tac-Toe Game\n",
    "\n",
    "print('Welcome to Tic-Tac-Toe!')\n",
    "\n",
    "while True:\n",
    "# Setting up the game first\n",
    "\n",
    "# Display board\n",
    "    tictactoe_board = [' ']*10\n",
    "\n",
    "# Players choose markers\n",
    "    player1,player2 = player_input()    \n",
    "    \n",
    "# Decide who's first\n",
    "    turn = random_player()\n",
    "    print(turn,'will go first!')\n",
    "    \n",
    "# Want to play?\n",
    "    start_game = input('Would you like to play? Y or N? ')\n",
    "    if start_game == 'Y':\n",
    "        gameplay = True\n",
    "    else:\n",
    "        print('Thanks for playing!')\n",
    "        gameplay = False\n",
    "\n",
    "# Gameplay\n",
    "    while gameplay:\n",
    "        \n",
    "# Player 1 turn\n",
    "        if turn == 'Player 1':\n",
    "            \n",
    "# Show the board\n",
    "            show_board(tictactoe_board)\n",
    "# Choose a board position\n",
    "            position = player_turn(tictactoe_board)\n",
    "# Place a marker on the board position if not taken\n",
    "            place_marker(tictactoe_board,player1,position)\n",
    "# Check did they win?\n",
    "            if winner_check(tictactoe_board,player1):\n",
    "                show_board(tictactoe_board)\n",
    "                print('Player 1 wins!')\n",
    "                gameplay = False # Game is finished             \n",
    "# Check if board is full and therefore a draw\n",
    "            elif fullboard_check(tictactoe_board):\n",
    "                show_board(tictactoe_board)\n",
    "                print('Draw!')\n",
    "                gameplay = False\n",
    "# Next player's turn if game not finished\n",
    "            else:\n",
    "                turn = 'Player 2'\n",
    "\n",
    "        else:\n",
    "            \n",
    "# Player 2 turn \n",
    "\n",
    "# Show the board\n",
    "            show_board(tictactoe_board)\n",
    "# Choose a board position\n",
    "            position = player_turn(tictactoe_board)\n",
    "# Place a marker on the board position if not taken\n",
    "            place_marker(tictactoe_board,player2,position)\n",
    "# Check did they win?\n",
    "            if winner_check(tictactoe_board,player2):\n",
    "                show_board(tictactoe_board)\n",
    "                print('Player 2 wins!')\n",
    "                gameplay = False # Game is finished             \n",
    "# Check if board is full and therefore a draw\n",
    "            elif fullboard_check(tictactoe_board):\n",
    "                show_board(tictactoe_board)\n",
    "                print('Draw!')\n",
    "                gameplay = False\n",
    "# Next player's turn if game not finished\n",
    "            else:\n",
    "                turn = 'Player 1'\n",
    "\n",
    "# Do they want to play again\n",
    "    if not play_again():\n",
    "        print('Thanks for playing!')\n",
    "        break"
   ]
  },
  {
   "cell_type": "code",
   "execution_count": null,
   "id": "9debac93",
   "metadata": {},
   "outputs": [],
   "source": []
  }
 ],
 "metadata": {
  "kernelspec": {
   "display_name": "Python 3 (ipykernel)",
   "language": "python",
   "name": "python3"
  },
  "language_info": {
   "codemirror_mode": {
    "name": "ipython",
    "version": 3
   },
   "file_extension": ".py",
   "mimetype": "text/x-python",
   "name": "python",
   "nbconvert_exporter": "python",
   "pygments_lexer": "ipython3",
   "version": "3.11.5"
  }
 },
 "nbformat": 4,
 "nbformat_minor": 5
}
